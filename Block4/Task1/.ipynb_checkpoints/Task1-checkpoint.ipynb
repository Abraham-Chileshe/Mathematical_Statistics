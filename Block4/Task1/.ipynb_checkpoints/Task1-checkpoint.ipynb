{
 "cells": [
  {
   "cell_type": "markdown",
   "id": "4b9fd1ca-0691-4a40-bd86-a8ae3ab8f21d",
   "metadata": {},
   "source": [
    "<div style=\"background-color:white\"><center>\n",
    "    <img src=\"Q1.jpg\" alt=\"Cat\" />\n",
    "</center></div>\n"
   ]
  },
  {
   "cell_type": "code",
   "execution_count": 72,
   "id": "initial_id",
   "metadata": {
    "ExecuteTime": {
     "end_time": "2024-04-15T01:16:46.256112Z",
     "start_time": "2024-04-15T01:16:46.238005Z"
    },
    "collapsed": true,
    "jupyter": {
     "outputs_hidden": true
    }
   },
   "outputs": [],
   "source": [
    "import pandas as pd"
   ]
  },
  {
   "cell_type": "code",
   "execution_count": 73,
   "id": "159b129fbb553e4d",
   "metadata": {
    "ExecuteTime": {
     "end_time": "2024-04-15T01:16:46.304272Z",
     "start_time": "2024-04-15T01:16:46.258114Z"
    }
   },
   "outputs": [
    {
     "data": {
      "text/html": [
       "<div>\n",
       "<style scoped>\n",
       "    .dataframe tbody tr th:only-of-type {\n",
       "        vertical-align: middle;\n",
       "    }\n",
       "\n",
       "    .dataframe tbody tr th {\n",
       "        vertical-align: top;\n",
       "    }\n",
       "\n",
       "    .dataframe thead th {\n",
       "        text-align: right;\n",
       "    }\n",
       "</style>\n",
       "<table border=\"1\" class=\"dataframe\">\n",
       "  <thead>\n",
       "    <tr style=\"text-align: right;\">\n",
       "      <th></th>\n",
       "      <th>Число студентов</th>\n",
       "    </tr>\n",
       "    <tr>\n",
       "      <th>Оценки</th>\n",
       "      <th></th>\n",
       "    </tr>\n",
       "  </thead>\n",
       "  <tbody>\n",
       "    <tr>\n",
       "      <th>Отлично</th>\n",
       "      <td>7</td>\n",
       "    </tr>\n",
       "    <tr>\n",
       "      <th>Хорошо</th>\n",
       "      <td>18</td>\n",
       "    </tr>\n",
       "    <tr>\n",
       "      <th>Удовлетворительно</th>\n",
       "      <td>6</td>\n",
       "    </tr>\n",
       "    <tr>\n",
       "      <th>Неудовлетворительно</th>\n",
       "      <td>2</td>\n",
       "    </tr>\n",
       "  </tbody>\n",
       "</table>\n",
       "</div>"
      ],
      "text/plain": [
       "                     Число студентов\n",
       "Оценки                              \n",
       "Отлично                            7\n",
       "Хорошо                            18\n",
       "Удовлетворительно                  6\n",
       "Неудовлетворительно                2"
      ]
     },
     "execution_count": 73,
     "metadata": {},
     "output_type": "execute_result"
    }
   ],
   "source": [
    "df = pd.read_csv(\"data.csv\", index_col=0)\n",
    "df"
   ]
  },
  {
   "cell_type": "code",
   "execution_count": 74,
   "id": "7e9aa0fc0667141c",
   "metadata": {
    "ExecuteTime": {
     "end_time": "2024-04-15T01:16:46.336344Z",
     "start_time": "2024-04-15T01:16:46.305272Z"
    }
   },
   "outputs": [
    {
     "data": {
      "text/plain": [
       "'Хорошо'"
      ]
     },
     "execution_count": 74,
     "metadata": {},
     "output_type": "execute_result"
    }
   ],
   "source": [
    "mod = df.loc[df['Число студентов'] == max(df['Число студентов'])].index[0]\n",
    "mod"
   ]
  },
  {
   "cell_type": "code",
   "execution_count": 80,
   "id": "3a747c9890160cdf",
   "metadata": {
    "ExecuteTime": {
     "end_time": "2024-04-15T02:32:17.749765Z",
     "start_time": "2024-04-15T02:32:17.734770Z"
    }
   },
   "outputs": [
    {
     "data": {
      "text/plain": [
       "'Хорошо'"
      ]
     },
     "execution_count": 80,
     "metadata": {},
     "output_type": "execute_result"
    }
   ],
   "source": [
    "# Ранжирование\n",
    "cdf = df.sort_values(by=['Число студентов']).cumsum()\n",
    "#Взятие среднего индекса\n",
    "mid_index = (cdf.loc['Хорошо']['Число студентов'] + 1) / 2\n",
    "mid_index\n",
    "# Получение медианного значения\n",
    "cdf = cdf.sort_values(by=['Число студентов'], ascending=False)\n",
    "cdf.loc[(cdf['Число студентов'] >= mid_index)].sort_values(by=['Число студентов'], ascending=True).head(1).index[0]\n"
   ]
  },
  {
   "cell_type": "code",
   "execution_count": null,
   "id": "c6188ec12aeae178",
   "metadata": {},
   "outputs": [],
   "source": []
  }
 ],
 "metadata": {
  "kernelspec": {
   "display_name": "Python 3 (ipykernel)",
   "language": "python",
   "name": "python3"
  },
  "language_info": {
   "codemirror_mode": {
    "name": "ipython",
    "version": 3
   },
   "file_extension": ".py",
   "mimetype": "text/x-python",
   "name": "python",
   "nbconvert_exporter": "python",
   "pygments_lexer": "ipython3",
   "version": "3.11.4"
  }
 },
 "nbformat": 4,
 "nbformat_minor": 5
}

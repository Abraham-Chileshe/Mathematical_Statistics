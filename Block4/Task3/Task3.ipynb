{
 "cells": [
  {
   "cell_type": "markdown",
   "id": "1d4f1cb4-1adc-4a94-ae76-2607aaa2a5dc",
   "metadata": {},
   "source": [
    "<div style=\"background-color:white\"><center>\n",
    "    <img src=\"Q3.jpg\" alt=\"Cat\" />\n",
    "</center></div>\n"
   ]
  },
  {
   "cell_type": "code",
   "execution_count": 2,
   "id": "initial_id",
   "metadata": {
    "ExecuteTime": {
     "end_time": "2024-04-15T08:57:49.723168Z",
     "start_time": "2024-04-15T08:57:49.173410Z"
    },
    "collapsed": true,
    "jupyter": {
     "outputs_hidden": true
    }
   },
   "outputs": [],
   "source": [
    "import pandas as pd"
   ]
  },
  {
   "cell_type": "code",
   "execution_count": 3,
   "id": "519a19b46ecc97c7",
   "metadata": {
    "ExecuteTime": {
     "end_time": "2024-04-15T08:57:49.786280Z",
     "start_time": "2024-04-15T08:57:49.725170Z"
    }
   },
   "outputs": [
    {
     "data": {
      "text/html": [
       "<div>\n",
       "<style scoped>\n",
       "    .dataframe tbody tr th:only-of-type {\n",
       "        vertical-align: middle;\n",
       "    }\n",
       "\n",
       "    .dataframe tbody tr th {\n",
       "        vertical-align: top;\n",
       "    }\n",
       "\n",
       "    .dataframe thead th {\n",
       "        text-align: right;\n",
       "    }\n",
       "</style>\n",
       "<table border=\"1\" class=\"dataframe\">\n",
       "  <thead>\n",
       "    <tr style=\"text-align: right;\">\n",
       "      <th></th>\n",
       "      <th>Промышленность</th>\n",
       "      <th>Сфера услуг</th>\n",
       "      <th>Медицина</th>\n",
       "    </tr>\n",
       "    <tr>\n",
       "      <th>Возраст</th>\n",
       "      <th></th>\n",
       "      <th></th>\n",
       "      <th></th>\n",
       "    </tr>\n",
       "  </thead>\n",
       "  <tbody>\n",
       "    <tr>\n",
       "      <th>25&lt;</th>\n",
       "      <td>9.0</td>\n",
       "      <td>14.1</td>\n",
       "      <td>5.1</td>\n",
       "    </tr>\n",
       "    <tr>\n",
       "      <th>25-35</th>\n",
       "      <td>34.9</td>\n",
       "      <td>29.7</td>\n",
       "      <td>7.9</td>\n",
       "    </tr>\n",
       "    <tr>\n",
       "      <th>35-45</th>\n",
       "      <td>35.6</td>\n",
       "      <td>26.3</td>\n",
       "      <td>11.5</td>\n",
       "    </tr>\n",
       "    <tr>\n",
       "      <th>45-50</th>\n",
       "      <td>8.1</td>\n",
       "      <td>12.8</td>\n",
       "      <td>27.7</td>\n",
       "    </tr>\n",
       "    <tr>\n",
       "      <th>50-55</th>\n",
       "      <td>7.3</td>\n",
       "      <td>10.5</td>\n",
       "      <td>24.6</td>\n",
       "    </tr>\n",
       "    <tr>\n",
       "      <th>55-60</th>\n",
       "      <td>4.0</td>\n",
       "      <td>4.5</td>\n",
       "      <td>15.4</td>\n",
       "    </tr>\n",
       "    <tr>\n",
       "      <th>&gt;60</th>\n",
       "      <td>1.1</td>\n",
       "      <td>2.1</td>\n",
       "      <td>7.8</td>\n",
       "    </tr>\n",
       "  </tbody>\n",
       "</table>\n",
       "</div>"
      ],
      "text/plain": [
       "         Промышленность  Сфера услуг  Медицина\n",
       "Возраст                                       \n",
       "25<                 9.0         14.1       5.1\n",
       "25-35              34.9         29.7       7.9\n",
       "35-45              35.6         26.3      11.5\n",
       "45-50               8.1         12.8      27.7\n",
       "50-55               7.3         10.5      24.6\n",
       "55-60               4.0          4.5      15.4\n",
       ">60                 1.1          2.1       7.8"
      ]
     },
     "execution_count": 3,
     "metadata": {},
     "output_type": "execute_result"
    }
   ],
   "source": [
    "df = pd.read_csv('data.csv', index_col=0)\n",
    "df"
   ]
  },
  {
   "cell_type": "code",
   "execution_count": 4,
   "id": "118049ab3ad9e278",
   "metadata": {
    "ExecuteTime": {
     "end_time": "2024-04-15T08:57:50.639666Z",
     "start_time": "2024-04-15T08:57:50.607101Z"
    }
   },
   "outputs": [
    {
     "name": "stdout",
     "output_type": "stream",
     "text": [
      "35-45 25-35 45-50\n"
     ]
    }
   ],
   "source": [
    "freq_prom = df.loc[df['Промышленность'] == max(df['Промышленность'])].index[0]\n",
    "freq_act = df.loc[df['Сфера услуг'] == max(df['Сфера услуг'])].index[0]\n",
    "freq_med = df.loc[df['Медицина'] == max(df['Медицина'])].index[0]\n",
    "print(freq_prom, freq_act, freq_med)"
   ]
  },
  {
   "cell_type": "code",
   "execution_count": 12,
   "id": "9001c8270897a11",
   "metadata": {
    "ExecuteTime": {
     "end_time": "2024-04-15T09:04:24.846100Z",
     "start_time": "2024-04-15T09:04:24.828061Z"
    }
   },
   "outputs": [
    {
     "data": {
      "text/html": [
       "<div>\n",
       "<style scoped>\n",
       "    .dataframe tbody tr th:only-of-type {\n",
       "        vertical-align: middle;\n",
       "    }\n",
       "\n",
       "    .dataframe tbody tr th {\n",
       "        vertical-align: top;\n",
       "    }\n",
       "\n",
       "    .dataframe thead th {\n",
       "        text-align: right;\n",
       "    }\n",
       "</style>\n",
       "<table border=\"1\" class=\"dataframe\">\n",
       "  <thead>\n",
       "    <tr style=\"text-align: right;\">\n",
       "      <th></th>\n",
       "      <th>Промышленность</th>\n",
       "      <th>Сфера услуг</th>\n",
       "      <th>Медицина</th>\n",
       "    </tr>\n",
       "    <tr>\n",
       "      <th>Возраст</th>\n",
       "      <th></th>\n",
       "      <th></th>\n",
       "      <th></th>\n",
       "    </tr>\n",
       "  </thead>\n",
       "  <tbody>\n",
       "    <tr>\n",
       "      <th>25&lt;</th>\n",
       "      <td>9.0</td>\n",
       "      <td>14.1</td>\n",
       "      <td>5.1</td>\n",
       "    </tr>\n",
       "    <tr>\n",
       "      <th>25-35</th>\n",
       "      <td>43.9</td>\n",
       "      <td>43.8</td>\n",
       "      <td>13.0</td>\n",
       "    </tr>\n",
       "    <tr>\n",
       "      <th>35-45</th>\n",
       "      <td>79.5</td>\n",
       "      <td>70.1</td>\n",
       "      <td>24.5</td>\n",
       "    </tr>\n",
       "    <tr>\n",
       "      <th>45-50</th>\n",
       "      <td>87.6</td>\n",
       "      <td>82.9</td>\n",
       "      <td>52.2</td>\n",
       "    </tr>\n",
       "    <tr>\n",
       "      <th>50-55</th>\n",
       "      <td>94.9</td>\n",
       "      <td>93.4</td>\n",
       "      <td>76.8</td>\n",
       "    </tr>\n",
       "    <tr>\n",
       "      <th>55-60</th>\n",
       "      <td>98.9</td>\n",
       "      <td>97.9</td>\n",
       "      <td>92.2</td>\n",
       "    </tr>\n",
       "    <tr>\n",
       "      <th>&gt;60</th>\n",
       "      <td>100.0</td>\n",
       "      <td>100.0</td>\n",
       "      <td>100.0</td>\n",
       "    </tr>\n",
       "  </tbody>\n",
       "</table>\n",
       "</div>"
      ],
      "text/plain": [
       "         Промышленность  Сфера услуг  Медицина\n",
       "Возраст                                       \n",
       "25<                 9.0         14.1       5.1\n",
       "25-35              43.9         43.8      13.0\n",
       "35-45              79.5         70.1      24.5\n",
       "45-50              87.6         82.9      52.2\n",
       "50-55              94.9         93.4      76.8\n",
       "55-60              98.9         97.9      92.2\n",
       ">60               100.0        100.0     100.0"
      ]
     },
     "execution_count": 12,
     "metadata": {},
     "output_type": "execute_result"
    }
   ],
   "source": [
    "cdf = df.copy()\n",
    "cdf.loc[:, ['Промышленность', 'Сфера услуг', 'Медицина']] = cdf.loc[:,\n",
    "                                                            ['Промышленность', 'Сфера услуг', 'Медицина']].cumsum()\n",
    "cdf"
   ]
  },
  {
   "cell_type": "markdown",
   "id": "c6308df700f44e6e",
   "metadata": {},
   "source": [
    "### Промышленность"
   ]
  },
  {
   "cell_type": "code",
   "execution_count": 5,
   "id": "331a804768736268",
   "metadata": {
    "ExecuteTime": {
     "end_time": "2024-04-15T09:00:16.545630Z",
     "start_time": "2024-04-15T09:00:16.534517Z"
    }
   },
   "outputs": [
    {
     "data": {
      "text/plain": [
       "320.0"
      ]
     },
     "execution_count": 5,
     "metadata": {},
     "output_type": "execute_result"
    }
   ],
   "source": [
    "mod_prom = 35 + ((35.6 - 34.9) / (35.6 - 34.9) + (35.6 - 8.1)) * 10\n",
    "mod_prom"
   ]
  },
  {
   "cell_type": "code",
   "execution_count": 24,
   "id": "3a85aaa783f7649e",
   "metadata": {
    "ExecuteTime": {
     "end_time": "2024-04-15T09:15:09.328048Z",
     "start_time": "2024-04-15T09:15:09.313005Z"
    }
   },
   "outputs": [
    {
     "data": {
      "text/plain": [
       "61.37640449438202"
      ]
     },
     "execution_count": 24,
     "metadata": {},
     "output_type": "execute_result"
    }
   ],
   "source": [
    "med_prom = 35 + (((100 / 2) + 43.9) / 35.6) * 10\n",
    "med_prom"
   ]
  },
  {
   "cell_type": "markdown",
   "id": "ff24e85ad72b22ea",
   "metadata": {},
   "source": [
    "### Сфера услуг"
   ]
  },
  {
   "cell_type": "code",
   "execution_count": 16,
   "id": "74f6429c91516173",
   "metadata": {
    "ExecuteTime": {
     "end_time": "2024-04-15T09:08:49.791395Z",
     "start_time": "2024-04-15T09:08:49.780875Z"
    }
   },
   "outputs": [
    {
     "data": {
      "text/plain": [
       "33.21052631578947"
      ]
     },
     "execution_count": 16,
     "metadata": {},
     "output_type": "execute_result"
    }
   ],
   "source": [
    "mod_act = 25 + ((29.7 - 14.1) / ((29.7 - 14.1) + (29.7 - 26.3))) * 10\n",
    "mod_act"
   ]
  },
  {
   "cell_type": "code",
   "execution_count": 19,
   "id": "54035cf13ba4a25b",
   "metadata": {
    "ExecuteTime": {
     "end_time": "2024-04-15T09:10:30.535694Z",
     "start_time": "2024-04-15T09:10:30.524183Z"
    }
   },
   "outputs": [
    {
     "data": {
      "text/plain": [
       "46.582491582491585"
      ]
     },
     "execution_count": 19,
     "metadata": {},
     "output_type": "execute_result"
    }
   ],
   "source": [
    "med_act = 25 + (((100 / 2) + 14.1) / 29.7) * 10\n",
    "med_act"
   ]
  },
  {
   "cell_type": "markdown",
   "id": "1c7a617fb8c4f5f3",
   "metadata": {},
   "source": [
    "### Медицина"
   ]
  },
  {
   "cell_type": "code",
   "execution_count": 22,
   "id": "dc1f7f30b43ac628",
   "metadata": {
    "ExecuteTime": {
     "end_time": "2024-04-15T09:13:41.015208Z",
     "start_time": "2024-04-15T09:13:41.009682Z"
    }
   },
   "outputs": [
    {
     "data": {
      "text/plain": [
       "49.196891191709845"
      ]
     },
     "execution_count": 22,
     "metadata": {},
     "output_type": "execute_result"
    }
   ],
   "source": [
    "mod_med = 45 + ((27.7 - 11.5) / ((27.7 - 11.5) + (27.7 - 24.6))) * 5\n",
    "mod_med"
   ]
  },
  {
   "cell_type": "code",
   "execution_count": 23,
   "id": "cef35707af2ed2bc",
   "metadata": {
    "ExecuteTime": {
     "end_time": "2024-04-15T09:13:41.488276Z",
     "start_time": "2024-04-15T09:13:41.470748Z"
    }
   },
   "outputs": [
    {
     "data": {
      "text/plain": [
       "58.44765342960289"
      ]
     },
     "execution_count": 23,
     "metadata": {},
     "output_type": "execute_result"
    }
   ],
   "source": [
    "med_med = 45 + (((100 / 2) + 24.5) / 27.7) * 5\n",
    "med_med"
   ]
  }
 ],
 "metadata": {
  "kernelspec": {
   "display_name": "Python 3 (ipykernel)",
   "language": "python",
   "name": "python3"
  },
  "language_info": {
   "codemirror_mode": {
    "name": "ipython",
    "version": 3
   },
   "file_extension": ".py",
   "mimetype": "text/x-python",
   "name": "python",
   "nbconvert_exporter": "python",
   "pygments_lexer": "ipython3",
   "version": "3.11.4"
  }
 },
 "nbformat": 4,
 "nbformat_minor": 5
}

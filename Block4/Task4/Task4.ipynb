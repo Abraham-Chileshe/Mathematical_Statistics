{
 "cells": [
  {
   "cell_type": "markdown",
   "id": "c35d9f96-b3f3-4355-8c27-da0a56be9b23",
   "metadata": {},
   "source": [
    "<div style=\"background-color:white\"><center>\n",
    "    <img src=\"Q4.jpg\" alt=\"Cat\" />\n",
    "</center></div>\n"
   ]
  },
  {
   "cell_type": "code",
   "execution_count": 8,
   "id": "initial_id",
   "metadata": {
    "ExecuteTime": {
     "end_time": "2024-04-15T08:43:21.057188Z",
     "start_time": "2024-04-15T08:43:21.038154Z"
    },
    "collapsed": true,
    "jupyter": {
     "outputs_hidden": true
    }
   },
   "outputs": [],
   "source": [
    "import pandas as pd"
   ]
  },
  {
   "cell_type": "code",
   "execution_count": 9,
   "id": "69f8d421676c93",
   "metadata": {},
   "outputs": [
    {
     "data": {
      "text/html": [
       "<div>\n",
       "<style scoped>\n",
       "    .dataframe tbody tr th:only-of-type {\n",
       "        vertical-align: middle;\n",
       "    }\n",
       "\n",
       "    .dataframe tbody tr th {\n",
       "        vertical-align: top;\n",
       "    }\n",
       "\n",
       "    .dataframe thead th {\n",
       "        text-align: right;\n",
       "    }\n",
       "</style>\n",
       "<table border=\"1\" class=\"dataframe\">\n",
       "  <thead>\n",
       "    <tr style=\"text-align: right;\">\n",
       "      <th></th>\n",
       "      <th>Число транспорта</th>\n",
       "    </tr>\n",
       "    <tr>\n",
       "      <th>Длина маршрута</th>\n",
       "      <th></th>\n",
       "    </tr>\n",
       "  </thead>\n",
       "  <tbody>\n",
       "    <tr>\n",
       "      <th>8&lt;</th>\n",
       "      <td>3.0</td>\n",
       "    </tr>\n",
       "    <tr>\n",
       "      <th>8-10</th>\n",
       "      <td>12.8</td>\n",
       "    </tr>\n",
       "    <tr>\n",
       "      <th>10-12</th>\n",
       "      <td>15.2</td>\n",
       "    </tr>\n",
       "    <tr>\n",
       "      <th>12-14</th>\n",
       "      <td>15.3</td>\n",
       "    </tr>\n",
       "    <tr>\n",
       "      <th>14-16</th>\n",
       "      <td>38.0</td>\n",
       "    </tr>\n",
       "    <tr>\n",
       "      <th>16-18</th>\n",
       "      <td>10.4</td>\n",
       "    </tr>\n",
       "    <tr>\n",
       "      <th>&gt;18</th>\n",
       "      <td>5.3</td>\n",
       "    </tr>\n",
       "  </tbody>\n",
       "</table>\n",
       "</div>"
      ],
      "text/plain": [
       "                Число транспорта\n",
       "Длина маршрута                  \n",
       "8<                           3.0\n",
       "8-10                        12.8\n",
       "10-12                       15.2\n",
       "12-14                       15.3\n",
       "14-16                       38.0\n",
       "16-18                       10.4\n",
       ">18                          5.3"
      ]
     },
     "execution_count": 9,
     "metadata": {},
     "output_type": "execute_result"
    }
   ],
   "source": [
    "df = pd.read_csv('data.csv', index_col=0)\n",
    "df"
   ]
  },
  {
   "cell_type": "code",
   "execution_count": 32,
   "id": "39fc6c98cdcab2de",
   "metadata": {
    "ExecuteTime": {
     "end_time": "2024-04-15T08:55:41.814820Z",
     "start_time": "2024-04-15T08:55:41.803302Z"
    }
   },
   "outputs": [
    {
     "data": {
      "text/plain": [
       "'14-16'"
      ]
     },
     "execution_count": 32,
     "metadata": {},
     "output_type": "execute_result"
    }
   ],
   "source": [
    "most_freq = df.loc[df['Число транспорта'] == max(df['Число транспорта'])]\n",
    "most_freq_val = mod.index[0]\n",
    "most_freq_val"
   ]
  },
  {
   "cell_type": "code",
   "execution_count": 11,
   "id": "2b422b9ffcc474f7",
   "metadata": {
    "ExecuteTime": {
     "end_time": "2024-04-15T08:43:21.120311Z",
     "start_time": "2024-04-15T08:43:21.090753Z"
    }
   },
   "outputs": [
    {
     "data": {
      "text/plain": [
       "14.902584493041749"
      ]
     },
     "execution_count": 11,
     "metadata": {},
     "output_type": "execute_result"
    }
   ],
   "source": [
    "bottom_freq = 14\n",
    "cur_freq = 38\n",
    "prev_freq = 15.3\n",
    "next_freq = 10.4\n",
    "h = 2\n",
    "mod_val = bottom_freq + ((cur_freq - prev_freq)/((cur_freq - prev_freq) + (cur_freq - next_freq))) * h\n",
    "mod_val"
   ]
  },
  {
   "cell_type": "code",
   "execution_count": 16,
   "id": "feff657b358a9c8",
   "metadata": {
    "ExecuteTime": {
     "end_time": "2024-04-15T08:50:55.206885Z",
     "start_time": "2024-04-15T08:50:55.198375Z"
    }
   },
   "outputs": [
    {
     "data": {
      "text/html": [
       "<div>\n",
       "<style scoped>\n",
       "    .dataframe tbody tr th:only-of-type {\n",
       "        vertical-align: middle;\n",
       "    }\n",
       "\n",
       "    .dataframe tbody tr th {\n",
       "        vertical-align: top;\n",
       "    }\n",
       "\n",
       "    .dataframe thead th {\n",
       "        text-align: right;\n",
       "    }\n",
       "</style>\n",
       "<table border=\"1\" class=\"dataframe\">\n",
       "  <thead>\n",
       "    <tr style=\"text-align: right;\">\n",
       "      <th></th>\n",
       "      <th>Число транспорта</th>\n",
       "    </tr>\n",
       "    <tr>\n",
       "      <th>Длина маршрута</th>\n",
       "      <th></th>\n",
       "    </tr>\n",
       "  </thead>\n",
       "  <tbody>\n",
       "    <tr>\n",
       "      <th>8&lt;</th>\n",
       "      <td>3.0</td>\n",
       "    </tr>\n",
       "    <tr>\n",
       "      <th>8-10</th>\n",
       "      <td>15.8</td>\n",
       "    </tr>\n",
       "    <tr>\n",
       "      <th>10-12</th>\n",
       "      <td>31.0</td>\n",
       "    </tr>\n",
       "    <tr>\n",
       "      <th>12-14</th>\n",
       "      <td>46.3</td>\n",
       "    </tr>\n",
       "    <tr>\n",
       "      <th>14-16</th>\n",
       "      <td>84.3</td>\n",
       "    </tr>\n",
       "    <tr>\n",
       "      <th>16-18</th>\n",
       "      <td>94.7</td>\n",
       "    </tr>\n",
       "    <tr>\n",
       "      <th>&gt;18</th>\n",
       "      <td>100.0</td>\n",
       "    </tr>\n",
       "  </tbody>\n",
       "</table>\n",
       "</div>"
      ],
      "text/plain": [
       "                Число транспорта\n",
       "Длина маршрута                  \n",
       "8<                           3.0\n",
       "8-10                        15.8\n",
       "10-12                       31.0\n",
       "12-14                       46.3\n",
       "14-16                       84.3\n",
       "16-18                       94.7\n",
       ">18                        100.0"
      ]
     },
     "execution_count": 16,
     "metadata": {},
     "output_type": "execute_result"
    }
   ],
   "source": [
    "# Ранжирование\n",
    "cdf = df.cumsum()\n",
    "cdf"
   ]
  },
  {
   "cell_type": "code",
   "execution_count": 36,
   "id": "f0a74e2a1f797ace",
   "metadata": {
    "ExecuteTime": {
     "end_time": "2024-04-15T08:56:33.148448Z",
     "start_time": "2024-04-15T08:56:33.129412Z"
    }
   },
   "outputs": [
    {
     "data": {
      "text/plain": [
       "21.068421052631578"
      ]
     },
     "execution_count": 36,
     "metadata": {},
     "output_type": "execute_result"
    }
   ],
   "source": [
    "bottom_freq + (((max(cdf['Число транспорта']) / 2) + cdf.loc[most_freq_val]['Число транспорта']) / cur_freq) * h"
   ]
  }
 ],
 "metadata": {
  "kernelspec": {
   "display_name": "Python 3 (ipykernel)",
   "language": "python",
   "name": "python3"
  },
  "language_info": {
   "codemirror_mode": {
    "name": "ipython",
    "version": 3
   },
   "file_extension": ".py",
   "mimetype": "text/x-python",
   "name": "python",
   "nbconvert_exporter": "python",
   "pygments_lexer": "ipython3",
   "version": "3.11.4"
  }
 },
 "nbformat": 4,
 "nbformat_minor": 5
}

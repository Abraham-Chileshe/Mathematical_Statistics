{
 "cells": [
  {
   "cell_type": "markdown",
   "id": "3d5b4d5b-733a-428a-b32d-24cbd71d4e54",
   "metadata": {},
   "source": [
    "<div style=\"background-color:white\"><center>\n",
    "    <img src=\"Q2.jpg\" alt=\"Cat\" />\n",
    "</center></div>\n"
   ]
  },
  {
   "cell_type": "code",
   "execution_count": 1,
   "id": "initial_id",
   "metadata": {
    "ExecuteTime": {
     "end_time": "2024-04-15T01:34:30.781657Z",
     "start_time": "2024-04-15T01:34:30.764614Z"
    }
   },
   "outputs": [],
   "source": [
    "import pandas as pd"
   ]
  },
  {
   "cell_type": "code",
   "execution_count": 2,
   "id": "bacfadec2f6c35b6",
   "metadata": {
    "ExecuteTime": {
     "end_time": "2024-04-15T01:34:30.797201Z",
     "start_time": "2024-04-15T01:34:30.783660Z"
    }
   },
   "outputs": [
    {
     "data": {
      "text/html": [
       "<div>\n",
       "<style scoped>\n",
       "    .dataframe tbody tr th:only-of-type {\n",
       "        vertical-align: middle;\n",
       "    }\n",
       "\n",
       "    .dataframe tbody tr th {\n",
       "        vertical-align: top;\n",
       "    }\n",
       "\n",
       "    .dataframe thead th {\n",
       "        text-align: right;\n",
       "    }\n",
       "</style>\n",
       "<table border=\"1\" class=\"dataframe\">\n",
       "  <thead>\n",
       "    <tr style=\"text-align: right;\">\n",
       "      <th></th>\n",
       "      <th>Количество станков</th>\n",
       "      <th>Число рабочих</th>\n",
       "    </tr>\n",
       "  </thead>\n",
       "  <tbody>\n",
       "    <tr>\n",
       "      <th>0</th>\n",
       "      <td>4</td>\n",
       "      <td>23</td>\n",
       "    </tr>\n",
       "    <tr>\n",
       "      <th>1</th>\n",
       "      <td>5</td>\n",
       "      <td>36</td>\n",
       "    </tr>\n",
       "    <tr>\n",
       "      <th>2</th>\n",
       "      <td>6</td>\n",
       "      <td>84</td>\n",
       "    </tr>\n",
       "    <tr>\n",
       "      <th>3</th>\n",
       "      <td>7</td>\n",
       "      <td>42</td>\n",
       "    </tr>\n",
       "    <tr>\n",
       "      <th>4</th>\n",
       "      <td>8</td>\n",
       "      <td>15</td>\n",
       "    </tr>\n",
       "  </tbody>\n",
       "</table>\n",
       "</div>"
      ],
      "text/plain": [
       "   Количество станков  Число рабочих\n",
       "0                   4             23\n",
       "1                   5             36\n",
       "2                   6             84\n",
       "3                   7             42\n",
       "4                   8             15"
      ]
     },
     "execution_count": 2,
     "metadata": {},
     "output_type": "execute_result"
    }
   ],
   "source": [
    "df = pd.read_csv(\"data.csv\")\n",
    "df"
   ]
  },
  {
   "cell_type": "code",
   "execution_count": 3,
   "id": "7d7a5cb203aa77a2",
   "metadata": {
    "ExecuteTime": {
     "end_time": "2024-04-15T01:34:30.812743Z",
     "start_time": "2024-04-15T01:34:30.798716Z"
    }
   },
   "outputs": [
    {
     "data": {
      "text/plain": [
       "6"
      ]
     },
     "execution_count": 3,
     "metadata": {},
     "output_type": "execute_result"
    }
   ],
   "source": [
    "mod = df.loc[df['Число рабочих'] == max(df['Число рабочих'])]\n",
    "mod_val = mod['Количество станков'].values[0]\n",
    "mod_val"
   ]
  },
  {
   "cell_type": "code",
   "execution_count": 68,
   "id": "e502104420274c21",
   "metadata": {
    "ExecuteTime": {
     "end_time": "2024-04-15T01:34:30.827958Z",
     "start_time": "2024-04-15T01:34:30.814744Z"
    }
   },
   "outputs": [
    {
     "data": {
      "text/plain": [
       "7"
      ]
     },
     "execution_count": 68,
     "metadata": {},
     "output_type": "execute_result"
    }
   ],
   "source": [
    "# Ранжирование\n",
    "cdf = df.sort_values(by=['Число рабочих']).reset_index(drop=True)\n",
    "cdf['Число рабочих'] = cdf['Число рабочих'].cumsum()\n",
    "cdf\n",
    "#Взятие среднего индекса\n",
    "mid_index = ((cdf.loc[cdf['Количество станков'] == mod_val]['Число рабочих'] + 1) / 2).values[0]\n",
    "mid_index\n",
    "# # Получение медианного значения\n",
    "cdf = cdf.sort_values(by=['Число рабочих'], ascending=False)\n",
    "cdf.loc[(cdf['Число рабочих'] >= mid_index)].sort_values(by=['Число рабочих'], ascending=True).head(1)['Количество станков'].values[0]\n"
   ]
  }
 ],
 "metadata": {
  "kernelspec": {
   "display_name": "Python 3 (ipykernel)",
   "language": "python",
   "name": "python3"
  },
  "language_info": {
   "codemirror_mode": {
    "name": "ipython",
    "version": 3
   },
   "file_extension": ".py",
   "mimetype": "text/x-python",
   "name": "python",
   "nbconvert_exporter": "python",
   "pygments_lexer": "ipython3",
   "version": "3.11.4"
  }
 },
 "nbformat": 4,
 "nbformat_minor": 5
}

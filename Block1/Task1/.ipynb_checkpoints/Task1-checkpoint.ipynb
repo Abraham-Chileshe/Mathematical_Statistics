{
 "cells": [
  {
   "cell_type": "markdown",
   "id": "ac191782-7ce9-4f5b-b828-c41e23fbcddc",
   "metadata": {},
   "source": [
    "<div style=\"background-color:white\"><center>\n",
    "    <img src=\"Q1.jpg\" alt=\"Cat\" />\n",
    "</center></div>\n"
   ]
  },
  {
   "cell_type": "code",
   "execution_count": 12,
   "id": "initial_id",
   "metadata": {
    "ExecuteTime": {
     "end_time": "2024-04-06T06:23:38.049368Z",
     "start_time": "2024-04-06T06:23:38.044257Z"
    }
   },
   "outputs": [],
   "source": [
    "import pandas as pd"
   ]
  },
  {
   "cell_type": "markdown",
   "id": "d3c470ce-8d48-4453-8f67-21a8f9209d99",
   "metadata": {},
   "source": [
    "<h3> First we read the data from the data.csv file</h3>"
   ]
  },
  {
   "cell_type": "code",
   "execution_count": 13,
   "id": "bbd7eea9d01a1b5b",
   "metadata": {
    "ExecuteTime": {
     "end_time": "2024-04-06T06:29:24.037124Z",
     "start_time": "2024-04-06T06:29:24.023597Z"
    }
   },
   "outputs": [
    {
     "data": {
      "text/html": [
       "<div>\n",
       "<style scoped>\n",
       "    .dataframe tbody tr th:only-of-type {\n",
       "        vertical-align: middle;\n",
       "    }\n",
       "\n",
       "    .dataframe tbody tr th {\n",
       "        vertical-align: top;\n",
       "    }\n",
       "\n",
       "    .dataframe thead th {\n",
       "        text-align: right;\n",
       "    }\n",
       "</style>\n",
       "<table border=\"1\" class=\"dataframe\">\n",
       "  <thead>\n",
       "    <tr style=\"text-align: right;\">\n",
       "      <th></th>\n",
       "      <th>Data</th>\n",
       "    </tr>\n",
       "  </thead>\n",
       "  <tbody>\n",
       "    <tr>\n",
       "      <th>0</th>\n",
       "      <td>3</td>\n",
       "    </tr>\n",
       "    <tr>\n",
       "      <th>1</th>\n",
       "      <td>2</td>\n",
       "    </tr>\n",
       "    <tr>\n",
       "      <th>2</th>\n",
       "      <td>5</td>\n",
       "    </tr>\n",
       "    <tr>\n",
       "      <th>3</th>\n",
       "      <td>4</td>\n",
       "    </tr>\n",
       "    <tr>\n",
       "      <th>4</th>\n",
       "      <td>6</td>\n",
       "    </tr>\n",
       "    <tr>\n",
       "      <th>5</th>\n",
       "      <td>5</td>\n",
       "    </tr>\n",
       "    <tr>\n",
       "      <th>6</th>\n",
       "      <td>3</td>\n",
       "    </tr>\n",
       "    <tr>\n",
       "      <th>7</th>\n",
       "      <td>2</td>\n",
       "    </tr>\n",
       "    <tr>\n",
       "      <th>8</th>\n",
       "      <td>4</td>\n",
       "    </tr>\n",
       "    <tr>\n",
       "      <th>9</th>\n",
       "      <td>3</td>\n",
       "    </tr>\n",
       "    <tr>\n",
       "      <th>10</th>\n",
       "      <td>4</td>\n",
       "    </tr>\n",
       "    <tr>\n",
       "      <th>11</th>\n",
       "      <td>2</td>\n",
       "    </tr>\n",
       "    <tr>\n",
       "      <th>12</th>\n",
       "      <td>3</td>\n",
       "    </tr>\n",
       "    <tr>\n",
       "      <th>13</th>\n",
       "      <td>2</td>\n",
       "    </tr>\n",
       "    <tr>\n",
       "      <th>14</th>\n",
       "      <td>5</td>\n",
       "    </tr>\n",
       "    <tr>\n",
       "      <th>15</th>\n",
       "      <td>2</td>\n",
       "    </tr>\n",
       "    <tr>\n",
       "      <th>16</th>\n",
       "      <td>3</td>\n",
       "    </tr>\n",
       "    <tr>\n",
       "      <th>17</th>\n",
       "      <td>4</td>\n",
       "    </tr>\n",
       "    <tr>\n",
       "      <th>18</th>\n",
       "      <td>2</td>\n",
       "    </tr>\n",
       "    <tr>\n",
       "      <th>19</th>\n",
       "      <td>5</td>\n",
       "    </tr>\n",
       "    <tr>\n",
       "      <th>20</th>\n",
       "      <td>7</td>\n",
       "    </tr>\n",
       "    <tr>\n",
       "      <th>21</th>\n",
       "      <td>6</td>\n",
       "    </tr>\n",
       "  </tbody>\n",
       "</table>\n",
       "</div>"
      ],
      "text/plain": [
       "    Data\n",
       "0      3\n",
       "1      2\n",
       "2      5\n",
       "3      4\n",
       "4      6\n",
       "5      5\n",
       "6      3\n",
       "7      2\n",
       "8      4\n",
       "9      3\n",
       "10     4\n",
       "11     2\n",
       "12     3\n",
       "13     2\n",
       "14     5\n",
       "15     2\n",
       "16     3\n",
       "17     4\n",
       "18     2\n",
       "19     5\n",
       "20     7\n",
       "21     6"
      ]
     },
     "execution_count": 13,
     "metadata": {},
     "output_type": "execute_result"
    }
   ],
   "source": [
    "dataFrame = pd.read_csv(\"data.csv\")\n",
    "dataFrame"
   ]
  },
  {
   "cell_type": "markdown",
   "id": "bde19220-5878-45be-a3b2-e59ff616eca3",
   "metadata": {},
   "source": [
    "<h3>This next line <span color=\"red\">df[count]</span> creates two columns <span color=\"red\">(Data, Count)</span> and it counts the number of time each number in count reoccurs. The nest line <span color=\"red\">df.groupby()</span> sorts the Data according to the count value and also it removes duplicates</h3>"
   ]
  },
  {
   "cell_type": "code",
   "execution_count": 14,
   "id": "3fb5ab92d4eadfb6",
   "metadata": {
    "ExecuteTime": {
     "end_time": "2024-04-06T06:29:24.965863Z",
     "start_time": "2024-04-06T06:29:24.947830Z"
    }
   },
   "outputs": [
    {
     "data": {
      "text/html": [
       "<div>\n",
       "<style scoped>\n",
       "    .dataframe tbody tr th:only-of-type {\n",
       "        vertical-align: middle;\n",
       "    }\n",
       "\n",
       "    .dataframe tbody tr th {\n",
       "        vertical-align: top;\n",
       "    }\n",
       "\n",
       "    .dataframe thead th {\n",
       "        text-align: right;\n",
       "    }\n",
       "</style>\n",
       "<table border=\"1\" class=\"dataframe\">\n",
       "  <thead>\n",
       "    <tr style=\"text-align: right;\">\n",
       "      <th></th>\n",
       "      <th>Data</th>\n",
       "      <th>Count</th>\n",
       "    </tr>\n",
       "  </thead>\n",
       "  <tbody>\n",
       "    <tr>\n",
       "      <th>0</th>\n",
       "      <td>2</td>\n",
       "      <td>6</td>\n",
       "    </tr>\n",
       "    <tr>\n",
       "      <th>1</th>\n",
       "      <td>3</td>\n",
       "      <td>5</td>\n",
       "    </tr>\n",
       "    <tr>\n",
       "      <th>2</th>\n",
       "      <td>4</td>\n",
       "      <td>4</td>\n",
       "    </tr>\n",
       "    <tr>\n",
       "      <th>3</th>\n",
       "      <td>5</td>\n",
       "      <td>4</td>\n",
       "    </tr>\n",
       "    <tr>\n",
       "      <th>4</th>\n",
       "      <td>6</td>\n",
       "      <td>2</td>\n",
       "    </tr>\n",
       "    <tr>\n",
       "      <th>5</th>\n",
       "      <td>7</td>\n",
       "      <td>1</td>\n",
       "    </tr>\n",
       "  </tbody>\n",
       "</table>\n",
       "</div>"
      ],
      "text/plain": [
       "   Data  Count\n",
       "0     2      6\n",
       "1     3      5\n",
       "2     4      4\n",
       "3     5      4\n",
       "4     6      2\n",
       "5     7      1"
      ]
     },
     "execution_count": 14,
     "metadata": {},
     "output_type": "execute_result"
    }
   ],
   "source": [
    "\n",
    "dataFrame[\"Count\"] = dataFrame.groupby(\"Data\")['Data'].transform(\"count\") \n",
    "dataFrame = dataFrame.groupby(['Data']).head(1).sort_values(by=[\"Data\"]).reset_index(drop=True)\n",
    "dataFrame"
   ]
  },
  {
   "cell_type": "markdown",
   "id": "8875dcc8-1292-4f30-99b6-fba615930d74",
   "metadata": {},
   "source": [
    "<h3>dataFrame.assign(RelFreq=...): </h3>\n",
    "This part creates a new column named 'RelFreq' in the DataFrame `dataFrame`. Whatever expression follows the equal sign (`=`) will determine the values of this new column.\n",
    "\n",
    "<h3>lambda x: ...: </h3>\n",
    "This is a lambda function, which is an anonymous function used here to calculate values for the new column. The `x` represents each row of the DataFrame.\n",
    "\n",
    "<h3>(x['Data']/x['Count']): </h3>\n",
    "This is the calculation being performed on each row of the DataFrame. It divides the value in the 'Data' column by the value in the 'Count' column for each respective row.\n"
   ]
  },
  {
   "cell_type": "code",
   "execution_count": 16,
   "id": "bc6c4a85316ee61b",
   "metadata": {
    "ExecuteTime": {
     "end_time": "2024-04-06T06:29:26.538320Z",
     "start_time": "2024-04-06T06:29:26.518279Z"
    }
   },
   "outputs": [
    {
     "data": {
      "text/html": [
       "<div>\n",
       "<style scoped>\n",
       "    .dataframe tbody tr th:only-of-type {\n",
       "        vertical-align: middle;\n",
       "    }\n",
       "\n",
       "    .dataframe tbody tr th {\n",
       "        vertical-align: top;\n",
       "    }\n",
       "\n",
       "    .dataframe thead th {\n",
       "        text-align: right;\n",
       "    }\n",
       "</style>\n",
       "<table border=\"1\" class=\"dataframe\">\n",
       "  <thead>\n",
       "    <tr style=\"text-align: right;\">\n",
       "      <th></th>\n",
       "      <th>Data</th>\n",
       "      <th>Count</th>\n",
       "      <th>RelFreq</th>\n",
       "    </tr>\n",
       "  </thead>\n",
       "  <tbody>\n",
       "    <tr>\n",
       "      <th>0</th>\n",
       "      <td>2</td>\n",
       "      <td>6</td>\n",
       "      <td>0.333333</td>\n",
       "    </tr>\n",
       "    <tr>\n",
       "      <th>1</th>\n",
       "      <td>3</td>\n",
       "      <td>5</td>\n",
       "      <td>0.600000</td>\n",
       "    </tr>\n",
       "    <tr>\n",
       "      <th>2</th>\n",
       "      <td>4</td>\n",
       "      <td>4</td>\n",
       "      <td>1.000000</td>\n",
       "    </tr>\n",
       "    <tr>\n",
       "      <th>3</th>\n",
       "      <td>5</td>\n",
       "      <td>4</td>\n",
       "      <td>1.250000</td>\n",
       "    </tr>\n",
       "    <tr>\n",
       "      <th>4</th>\n",
       "      <td>6</td>\n",
       "      <td>2</td>\n",
       "      <td>3.000000</td>\n",
       "    </tr>\n",
       "    <tr>\n",
       "      <th>5</th>\n",
       "      <td>7</td>\n",
       "      <td>1</td>\n",
       "      <td>7.000000</td>\n",
       "    </tr>\n",
       "  </tbody>\n",
       "</table>\n",
       "</div>"
      ],
      "text/plain": [
       "   Data  Count   RelFreq\n",
       "0     2      6  0.333333\n",
       "1     3      5  0.600000\n",
       "2     4      4  1.000000\n",
       "3     5      4  1.250000\n",
       "4     6      2  3.000000\n",
       "5     7      1  7.000000"
      ]
     },
     "execution_count": 16,
     "metadata": {},
     "output_type": "execute_result"
    }
   ],
   "source": [
    "dataFrame = dataFrame.assign(RelFreq=lambda x: (x['Data']/x['Count']))\n",
    "dataFrame"
   ]
  }
 ],
 "metadata": {
  "kernelspec": {
   "display_name": "Python 3 (ipykernel)",
   "language": "python",
   "name": "python3"
  },
  "language_info": {
   "codemirror_mode": {
    "name": "ipython",
    "version": 3
   },
   "file_extension": ".py",
   "mimetype": "text/x-python",
   "name": "python",
   "nbconvert_exporter": "python",
   "pygments_lexer": "ipython3",
   "version": "3.11.4"
  }
 },
 "nbformat": 4,
 "nbformat_minor": 5
}

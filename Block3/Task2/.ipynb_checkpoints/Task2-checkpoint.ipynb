{
 "cells": [
  {
   "cell_type": "markdown",
   "id": "8b75d80d-6383-412f-9f82-055ed88708ec",
   "metadata": {},
   "source": [
    "<div style=\"background-color:white\"><center>\n",
    "    <img src=\"Q2.jpg\" alt=\"Cat\" />\n",
    "</center></div>\n"
   ]
  },
  {
   "cell_type": "code",
   "execution_count": 3,
   "id": "initial_id",
   "metadata": {
    "ExecuteTime": {
     "end_time": "2024-04-14T08:13:04.576575Z",
     "start_time": "2024-04-14T08:13:04.207958Z"
    }
   },
   "outputs": [],
   "source": [
    "import pandas as pd"
   ]
  },
  {
   "cell_type": "code",
   "execution_count": 4,
   "id": "6f0acbdcfe8a031f",
   "metadata": {
    "ExecuteTime": {
     "end_time": "2024-04-14T08:13:21.605201Z",
     "start_time": "2024-04-14T08:13:21.557097Z"
    }
   },
   "outputs": [
    {
     "data": {
      "text/html": [
       "<div>\n",
       "<style scoped>\n",
       "    .dataframe tbody tr th:only-of-type {\n",
       "        vertical-align: middle;\n",
       "    }\n",
       "\n",
       "    .dataframe tbody tr th {\n",
       "        vertical-align: top;\n",
       "    }\n",
       "\n",
       "    .dataframe thead th {\n",
       "        text-align: right;\n",
       "    }\n",
       "</style>\n",
       "<table border=\"1\" class=\"dataframe\">\n",
       "  <thead>\n",
       "    <tr style=\"text-align: right;\">\n",
       "      <th></th>\n",
       "      <th>Удельный вес мужчин (%)</th>\n",
       "      <th>Общее число рабочих (%)</th>\n",
       "    </tr>\n",
       "    <tr>\n",
       "      <th>№ цеха</th>\n",
       "      <th></th>\n",
       "      <th></th>\n",
       "    </tr>\n",
       "  </thead>\n",
       "  <tbody>\n",
       "    <tr>\n",
       "      <th>1</th>\n",
       "      <td>52.3</td>\n",
       "      <td>31.6</td>\n",
       "    </tr>\n",
       "    <tr>\n",
       "      <th>2</th>\n",
       "      <td>66.4</td>\n",
       "      <td>25.8</td>\n",
       "    </tr>\n",
       "    <tr>\n",
       "      <th>3</th>\n",
       "      <td>33.8</td>\n",
       "      <td>42.6</td>\n",
       "    </tr>\n",
       "  </tbody>\n",
       "</table>\n",
       "</div>"
      ],
      "text/plain": [
       "        Удельный вес мужчин (%)  Общее число рабочих (%)\n",
       "№ цеха                                                  \n",
       "1                          52.3                     31.6\n",
       "2                          66.4                     25.8\n",
       "3                          33.8                     42.6"
      ]
     },
     "execution_count": 4,
     "metadata": {},
     "output_type": "execute_result"
    }
   ],
   "source": [
    "df = pd.read_csv(\"data.csv\", index_col=0)\n",
    "df"
   ]
  },
  {
   "cell_type": "code",
   "execution_count": 5,
   "id": "6f4dfccc448d8af4",
   "metadata": {
    "ExecuteTime": {
     "end_time": "2024-04-14T08:43:52.741764Z",
     "start_time": "2024-04-14T08:43:52.728246Z"
    }
   },
   "outputs": [
    {
     "name": "stdout",
     "output_type": "stream",
     "text": [
      "Удельный вес в целом: 48.0568%\n"
     ]
    }
   ],
   "source": [
    "print(\n",
    "    f\"Удельный вес в целом: {sum((df['Удельный вес мужчин (%)'] * df['Общее число рабочих (%)']) / sum(df['Общее число рабочих (%)']))}%\") "
   ]
  },
  {
   "cell_type": "code",
   "execution_count": null,
   "id": "a084fd86-cd1b-41ec-a77f-de740aff7523",
   "metadata": {},
   "outputs": [],
   "source": []
  }
 ],
 "metadata": {
  "kernelspec": {
   "display_name": "Python 3 (ipykernel)",
   "language": "python",
   "name": "python3"
  },
  "language_info": {
   "codemirror_mode": {
    "name": "ipython",
    "version": 3
   },
   "file_extension": ".py",
   "mimetype": "text/x-python",
   "name": "python",
   "nbconvert_exporter": "python",
   "pygments_lexer": "ipython3",
   "version": "3.11.4"
  }
 },
 "nbformat": 4,
 "nbformat_minor": 5
}
